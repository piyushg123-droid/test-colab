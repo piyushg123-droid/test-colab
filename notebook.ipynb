{
  "cells": [
    {
      "cell_type": "code",
      "execution_count": 10,
      "metadata": {
        "id": "YBm2PBOCJhVS",
        "executionInfo": {
          "status": "ok",
          "timestamp": 1751329782125,
          "user_tz": 420,
          "elapsed": 205,
          "user": {
            "displayName": "",
            "userId": ""
          }
        }
      },
      "outputs": [],
      "source": [
        "import my_method as my_method\n"
      ],
      "id": "YBm2PBOCJhVS"
    },
    {
      "cell_type": "code",
      "execution_count": 11,
      "metadata": {
        "colab": {
          "base_uri": "https://localhost:8080/"
        },
        "id": "in5UXT1ZJhVT",
        "executionInfo": {
          "status": "ok",
          "timestamp": 1751329792455,
          "user_tz": 420,
          "elapsed": 301,
          "user": {
            "displayName": "",
            "userId": ""
          }
        },
        "outputId": "9b575213-d087-4463-ad01-0aab6fba3377"
      },
      "outputs": [
        {
          "output_type": "stream",
          "name": "stdout",
          "text": [
            "Result 1: HelloWOW! WOW!WorldWOW!\n",
            "Result 2: TestWOW!\n",
            "Result 3: \n"
          ]
        }
      ],
      "source": [
        "result1 = my_method.concatenate_wow(\"Hello\", \" \", \"World\")\n",
        "print(f\"Result 1: {result1}\")\n",
        "\n",
        "result2 = concatenate_wow(\"Test\")\n",
        "print(f\"Result 2: {result2}\")\n",
        "\n",
        "result3 = concatenate_wow()\n",
        "print(f\"Result 3: {result3}\")"
      ],
      "id": "in5UXT1ZJhVT"
    }
  ],
  "metadata": {
    "colab": {
      "provenance": [],
      "gpuType": "T4"
    },
    "language_info": {
      "name": "python"
    },
    "kernelspec": {
      "name": "python3",
      "display_name": "Python 3"
    },
    "accelerator": "GPU"
  },
  "nbformat": 4,
  "nbformat_minor": 5
}