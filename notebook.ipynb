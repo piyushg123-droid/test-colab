{
 "cells": [
  {
   "cell_type": "code",
   "execution_count": null,
   "metadata": {},
   "outputs": [],
   "source": [
    "from main import concatenate_wow"
   ]
  },
  {
   "cell_type": "code",
   "execution_count": null,
   "metadata": {},
   "outputs": [],
   "source": [
    "result1 = concatenate_wow(\"Hello\", \" \", \"World\")\n",
    "print(f\"Result 1: {result1}\")\n",
    "\n",
    "result2 = concatenate_wow(\"Test\")\n",
    "print(f\"Result 2: {result2}\")\n",
    "\n",
    "result3 = concatenate_wow()\n",
    "print(f\"Result 3: {result3}\")"
   ]
  }
 ],
 "metadata": {},
 "nbformat": 4,
 "nbformat_minor": 5
}
