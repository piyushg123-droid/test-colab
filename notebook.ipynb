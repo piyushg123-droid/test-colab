{
  "cells": [
    {
      "cell_type": "code",
      "execution_count": 1,
      "metadata": {
        "id": "YBm2PBOCJhVS",
        "executionInfo": {
          "status": "ok",
          "timestamp": 1751391839690,
          "user_tz": 420,
          "elapsed": 232,
          "user": {
            "displayName": "",
            "userId": ""
          }
        }
      },
      "outputs": [],
      "source": [
        "import my_method as my_method\n"
      ],
      "id": "YBm2PBOCJhVS"
    },
    {
      "cell_type": "code",
      "execution_count": 3,
      "metadata": {
        "colab": {
          "base_uri": "https://localhost:8080/"
        },
        "id": "in5UXT1ZJhVT",
        "executionInfo": {
          "status": "ok",
          "timestamp": 1751391872683,
          "user_tz": 420,
          "elapsed": 188,
          "user": {
            "displayName": "",
            "userId": ""
          }
        },
        "outputId": "98d874fc-0ab0-4844-c88b-3c2131d0456a"
      },
      "outputs": [
        {
          "output_type": "stream",
          "name": "stdout",
          "text": [
            "Result 1: HelloWOW! WOW!WorldWOW!\n",
            "Result 2: TestWOW!\n",
            "Result 3: \n"
          ]
        }
      ],
      "source": [
        "result1 = my_method.concatenate_wow(\"Hello\", \" \", \"World\")\n",
        "print(f\"Result 1: {result1}\")\n",
        "\n",
        "result2 = my_method.concatenate_wow(\"Test\")\n",
        "print(f\"Result 2: {result2}\")\n",
        "\n",
        "result3 = my_method.concatenate_wow()\n",
        "print(f\"Result 3: {result3}\")"
      ],
      "id": "in5UXT1ZJhVT"
    }
  ],
  "metadata": {
    "colab": {
      "provenance": [],
      "gpuType": "T4",
      "name": "notebook.ipynb"
    },
    "language_info": {
      "name": "python"
    },
    "kernelspec": {
      "name": "python3",
      "display_name": "Python 3"
    },
    "accelerator": "GPU"
  },
  "nbformat": 4,
  "nbformat_minor": 5
}